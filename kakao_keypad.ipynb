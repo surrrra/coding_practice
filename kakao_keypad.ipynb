{
 "cells": [
  {
   "cell_type": "markdown",
   "id": "f2a88673",
   "metadata": {},
   "source": [
    "이 전화 키패드에서 왼손과 오른손의 엄지손가락만을 이용해서 숫자만을 입력하려고 합니다."
   ]
  },
  {
   "cell_type": "markdown",
   "id": "023d6b1c",
   "metadata": {},
   "source": [
    "맨 처음 왼손 엄지손가락은 * 키패드에 오른손 엄지손가락은 # 키패드 위치에서 시작하며, 엄지손가락을 사용하는 규칙은 다음과 같습니다."
   ]
  },
  {
   "cell_type": "markdown",
   "id": "c7639151",
   "metadata": {},
   "source": [
    "엄지손가락은 상하좌우 4가지 방향으로만 이동할 수 있으며 키패드 이동 한 칸은 거리로 1에 해당합니다."
   ]
  },
  {
   "cell_type": "markdown",
   "id": "d252602b",
   "metadata": {},
   "source": [
    "왼쪽 열의 3개의 숫자 1, 4, 7을 입력할 때는 왼손 엄지손가락을 사용합니다."
   ]
  },
  {
   "cell_type": "markdown",
   "id": "2666d927",
   "metadata": {},
   "source": [
    "오른쪽 열의 3개의 숫자 3, 6, 9를 입력할 때는 오른손 엄지손가락을 사용합니다."
   ]
  },
  {
   "cell_type": "markdown",
   "id": "0bb166c0",
   "metadata": {},
   "source": [
    "가운데 열의 4개의 숫자 2, 5, 8, 0을 입력할 때는 두 엄지손가락의 현재 키패드의 위치에서 더 가까운 엄지손가락을 사용합니다."
   ]
  },
  {
   "cell_type": "markdown",
   "id": "70661037",
   "metadata": {},
   "source": [
    "만약 두 엄지손가락의 거리가 같다면, 오른손잡이는 오른손 엄지손가락, 왼손잡이는 왼손 엄지손가락을 사용합니다."
   ]
  },
  {
   "cell_type": "markdown",
   "id": "1f4f6437",
   "metadata": {},
   "source": [
    "순서대로 누를 번호가 담긴 배열 numbers, 왼손잡이인지 오른손잡이인 지를 나타내는 문자열 hand가 매개변수로 주어질 때, 각 번호를 누른 엄지손가락이 왼손인 지 오른손인 지를 나타내는 연속된 문자열 형태로 return 하도록 solution 함수를 완성해주세요."
   ]
  },
  {
   "cell_type": "code",
   "execution_count": 2,
   "id": "3f4f9adc",
   "metadata": {},
   "outputs": [
    {
     "data": {
      "text/plain": [
       "'RRLLRL'"
      ]
     },
     "execution_count": 2,
     "metadata": {},
     "output_type": "execute_result"
    }
   ],
   "source": [
    "pan=[[0, 0], [0, 1], [0, 2],\n",
    "    [1, 0], [1, 1], [1, 2],\n",
    "    [2, 0], [2, 1], [2, 2],\n",
    "    [3, 0], [3, 1], [3, 2]]\n",
    "\n",
    "def solution(numbers, hand):\n",
    "    result=''\n",
    "    left_loc=pan[9]\n",
    "    right_loc=pan[-1]\n",
    "    for num in numbers:\n",
    "        if num in (1, 4, 7):\n",
    "            left_loc=pan[num-1]\n",
    "            result+='L'\n",
    "        elif num in (3, 6, 9):\n",
    "            right_loc=pan[num-1]\n",
    "            result+='R'\n",
    "        else:\n",
    "            if num==0:\n",
    "                left_distance=abs(pan[-2][0]-left_loc[0])+abs(pan[-2][1]-left_loc[1])\n",
    "                right_distance=abs(pan[-2][0]-right_loc[0])+abs(pan[-2][1]-right_loc[1])\n",
    "                if left_distance < right_distance:\n",
    "                    left_loc=pan[-2]\n",
    "                    result+='L'\n",
    "                elif left_distance > right_distance:\n",
    "                    right_loc=pan[-2]\n",
    "                    result+='R'\n",
    "                else:\n",
    "                    if hand=='right':\n",
    "                        right_loc=pan[-2]\n",
    "                        result+='R'\n",
    "                    else:\n",
    "                        left_loc=pan[-2]\n",
    "                        result+='L'\n",
    "            else:\n",
    "                left_distance=abs(pan[num-1][0]-left_loc[0])+abs(pan[num-1][1]-left_loc[1])\n",
    "                right_distance=abs(pan[num-1][0]-right_loc[0])+abs(pan[num-1][1]-right_loc[1])\n",
    "                if left_distance < right_distance:\n",
    "                    left_loc=pan[num-1]\n",
    "                    result+='L'\n",
    "                elif left_distance > right_distance:\n",
    "                    right_loc=pan[num-1]\n",
    "                    result+='R'\n",
    "                else:\n",
    "                    if hand=='right':\n",
    "                        right_loc=pan[num-1]\n",
    "                        result+='R'\n",
    "                    else:\n",
    "                        left_loc=pan[num-1]\n",
    "                        result+='L'\n",
    "    return result\n",
    "\n",
    "                \n",
    "\n",
    "numbers=[0, 0, 1, 2,3,4]\n",
    "solution(numbers, 'right')\n",
    "        \n"
   ]
  },
  {
   "cell_type": "code",
   "execution_count": null,
   "id": "197808e5",
   "metadata": {},
   "outputs": [],
   "source": []
  }
 ],
 "metadata": {
  "kernelspec": {
   "display_name": "Python 3 (ipykernel)",
   "language": "python",
   "name": "python3"
  },
  "language_info": {
   "codemirror_mode": {
    "name": "ipython",
    "version": 3
   },
   "file_extension": ".py",
   "mimetype": "text/x-python",
   "name": "python",
   "nbconvert_exporter": "python",
   "pygments_lexer": "ipython3",
   "version": "3.9.12"
  }
 },
 "nbformat": 4,
 "nbformat_minor": 5
}
