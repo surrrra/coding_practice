{
 "cells": [
  {
   "cell_type": "markdown",
   "id": "5162b8b2",
   "metadata": {},
   "source": [
    "# 비밀지도\n",
    "네오는 평소 프로도가 비상금을 숨겨놓는 장소를 알려줄 비밀지도를 손에 넣었다.  \n",
    "그런데 이 비밀지도는 숫자로 암호화되어 있어 위치를 확인하기 위해서는 암호를 해독해야 한다.  \n",
    "다행히 지도 암호를 해독할 방법을 적어놓은 메모도 함께 발견했다.\n",
    "\n",
    "지도는 한 변의 길이가 n인 정사각형 배열 형태로,  \n",
    "각 칸은 \"공백\"(\" \") 또는 \"벽\"(\"#\") 두 종류로 이루어져 있다.  \n",
    "전체 지도는 두 장의 지도를 겹쳐서 얻을 수 있다.  \n",
    "각각 \"지도 1\"과 \"지도 2\"라고 하자. 지도 1 또는 지도 2 중 어느 하나라도 벽인 부분은 전체 지도에서도 벽이다. 지도 1과 지도 2에서 모두 공백인 부분은 전체 지도에서도 공백이다.  \n",
    "\"지도 1\"과 \"지도 2\"는 각각 정수 배열로 암호화되어 있다.  \n",
    "암호화된 배열은 지도의 각 가로줄에서 벽 부분을 1, 공백 부분을 0으로 부호화했을 때 얻어지는 이진수에 해당하는 값의 배열이다.  \n",
    "\n",
    "네오가 프로도의 비상금을 손에 넣을 수 있도록, 비밀지도의 암호를 해독하는 작업을 도와줄 프로그램을 작성하라."
   ]
  },
  {
   "cell_type": "markdown",
   "id": "e659a4f6",
   "metadata": {},
   "source": [
    "https://school.programmers.co.kr/learn/courses/30/lessons/17681"
   ]
  },
  {
   "cell_type": "code",
   "execution_count": 14,
   "id": "713eb0b6",
   "metadata": {},
   "outputs": [
    {
     "data": {
      "text/plain": [
       "['#####', '# # #', '### #', '#  ##', '#####']"
      ]
     },
     "execution_count": 14,
     "metadata": {},
     "output_type": "execute_result"
    }
   ],
   "source": [
    "def solution(n, arr1, arr2):\n",
    "    answer = []\n",
    "    \n",
    "    bin_arr1=[]\n",
    "    bin_arr2=[]\n",
    "    result=''\n",
    "\n",
    "    for e in arr1:\n",
    "        a=bin(e)[2:]\n",
    "        while len(a)<n:\n",
    "            a='0'+a\n",
    "        bin_arr1.append(a)\n",
    "    \n",
    "    for e in arr2:\n",
    "        a=bin(e)[2:]\n",
    "        while len(a)<n:\n",
    "            a='0'+a\n",
    "        bin_arr2.append(a)\n",
    "\n",
    "\n",
    "    for i in range(len(bin_arr1)):\n",
    "        for j in range(n):\n",
    "            if '1' in bin_arr1[i][j] or '1' in bin_arr2[i][j]:\n",
    "                result+='#'\n",
    "            else:\n",
    "                result+=' '\n",
    "        answer.append(result)\n",
    "        result=''\n",
    "    \n",
    "    return answer\n",
    "\n",
    "\n",
    "n=5\n",
    "arr1=[9, 20, 28, 18, 11]\n",
    "arr2=[30, 1, 21, 17, 28]\n",
    "solution(n, arr1, arr2)"
   ]
  }
 ],
 "metadata": {
  "kernelspec": {
   "display_name": "Python 3 (ipykernel)",
   "language": "python",
   "name": "python3"
  },
  "language_info": {
   "codemirror_mode": {
    "name": "ipython",
    "version": 3
   },
   "file_extension": ".py",
   "mimetype": "text/x-python",
   "name": "python",
   "nbconvert_exporter": "python",
   "pygments_lexer": "ipython3",
   "version": "3.9.12"
  }
 },
 "nbformat": 4,
 "nbformat_minor": 5
}
