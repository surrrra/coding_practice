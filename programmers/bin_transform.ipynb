{
 "cells": [
  {
   "cell_type": "markdown",
   "id": "8b34f8ed",
   "metadata": {},
   "source": [
    "# 이진 변환 반복하기\n",
    "https://school.programmers.co.kr/learn/courses/30/lessons/70129"
   ]
  },
  {
   "cell_type": "code",
   "execution_count": 28,
   "id": "4bb48339",
   "metadata": {},
   "outputs": [],
   "source": [
    "def solution(s):\n",
    "    cnt, i=0, 0\n",
    "\n",
    "    while s!='1':\n",
    "        cnt+=s.count('0')\n",
    "        s=bin(len(s.replace('0', '')))[2:]\n",
    "        i+=1\n",
    "    \n",
    "    return [i, cnt]"
   ]
  },
  {
   "cell_type": "code",
   "execution_count": 29,
   "id": "2b933607",
   "metadata": {},
   "outputs": [
    {
     "data": {
      "text/plain": [
       "[3, 8]"
      ]
     },
     "execution_count": 29,
     "metadata": {},
     "output_type": "execute_result"
    }
   ],
   "source": [
    "solution('110010101001')"
   ]
  },
  {
   "cell_type": "code",
   "execution_count": 30,
   "id": "be7a91b1",
   "metadata": {},
   "outputs": [
    {
     "data": {
      "text/plain": [
       "[3, 3]"
      ]
     },
     "execution_count": 30,
     "metadata": {},
     "output_type": "execute_result"
    }
   ],
   "source": [
    "solution('01110')"
   ]
  },
  {
   "cell_type": "code",
   "execution_count": null,
   "id": "0847c3c5",
   "metadata": {},
   "outputs": [],
   "source": []
  }
 ],
 "metadata": {
  "kernelspec": {
   "display_name": "Python 3 (ipykernel)",
   "language": "python",
   "name": "python3"
  },
  "language_info": {
   "codemirror_mode": {
    "name": "ipython",
    "version": 3
   },
   "file_extension": ".py",
   "mimetype": "text/x-python",
   "name": "python",
   "nbconvert_exporter": "python",
   "pygments_lexer": "ipython3",
   "version": "3.9.13"
  }
 },
 "nbformat": 4,
 "nbformat_minor": 5
}
