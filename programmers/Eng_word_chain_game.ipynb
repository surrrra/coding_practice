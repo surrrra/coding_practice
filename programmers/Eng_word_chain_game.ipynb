{
 "cells": [
  {
   "cell_type": "markdown",
   "id": "0f04d86b",
   "metadata": {},
   "source": [
    "## 영어 끝말잇기\n",
    "\n",
    "https://school.programmers.co.kr/learn/courses/30/lessons/12981"
   ]
  },
  {
   "cell_type": "code",
   "execution_count": 45,
   "id": "0d32da81",
   "metadata": {},
   "outputs": [],
   "source": [
    "def solution(n, words):\n",
    "    word_list=[]\n",
    "    idx=0\n",
    "    \n",
    "    for word in words:\n",
    "        num=idx%n+1\n",
    "        order=idx//n+1\n",
    "        \n",
    "        if num==0: \n",
    "            '''\n",
    "            번호가 1, 2, ... n인데 나머지를 구했을 때 1, 2, ..., 0으로 반환되므로\n",
    "            0을 n으로 바꿔주기 위한 작업\n",
    "            '''\n",
    "            num=n \n",
    "        \n",
    "        if (idx>0) & (words[idx-1][-1] != words[idx][0]): return [num, order]  # 앞사람이 말한 단어의 마지막 문자로 시작하는 단어를 말하지 않았을 때\n",
    "            \n",
    "        \n",
    "        if word not in word_list:\n",
    "            word_list.append(word)\n",
    "            \n",
    "            if len(word_list)==len(words):   # word_list 끝까지 다 돌았다면 return [0, 0]\n",
    "                return [0, 0]  \n",
    "            \n",
    "        else: return [num, order]\n",
    "    \n",
    "        idx+=1"
   ]
  },
  {
   "cell_type": "code",
   "execution_count": 46,
   "id": "1f0e4807",
   "metadata": {},
   "outputs": [
    {
     "data": {
      "text/plain": [
       "[1, 3]"
      ]
     },
     "execution_count": 46,
     "metadata": {},
     "output_type": "execute_result"
    }
   ],
   "source": [
    "solution(2, [\"hello\", \"one\", \"even\", \"never\", \"now\", \"world\", \"draw\"])"
   ]
  },
  {
   "cell_type": "code",
   "execution_count": 47,
   "id": "91d7b963",
   "metadata": {},
   "outputs": [
    {
     "data": {
      "text/plain": [
       "[3, 3]"
      ]
     },
     "execution_count": 47,
     "metadata": {},
     "output_type": "execute_result"
    }
   ],
   "source": [
    "solution(3, [\"tank\", \"kick\", \"know\", \"wheel\", \"land\", \"dream\", \"mother\", \"robot\", \"tank\"])"
   ]
  },
  {
   "cell_type": "code",
   "execution_count": 48,
   "id": "4a4d070f",
   "metadata": {},
   "outputs": [
    {
     "data": {
      "text/plain": [
       "[0, 0]"
      ]
     },
     "execution_count": 48,
     "metadata": {},
     "output_type": "execute_result"
    }
   ],
   "source": [
    "solution(5, [\"hello\", \"observe\", \"effect\", \"take\", \"either\", \"recognize\", \"encourage\", \"ensure\", \"establish\", \"hang\", \"gather\", \"refer\", \"reference\", \"estimate\", \"executive\"])"
   ]
  },
  {
   "cell_type": "code",
   "execution_count": null,
   "id": "ff7e9613",
   "metadata": {},
   "outputs": [],
   "source": []
  }
 ],
 "metadata": {
  "kernelspec": {
   "display_name": "Python 3 (ipykernel)",
   "language": "python",
   "name": "python3"
  },
  "language_info": {
   "codemirror_mode": {
    "name": "ipython",
    "version": 3
   },
   "file_extension": ".py",
   "mimetype": "text/x-python",
   "name": "python",
   "nbconvert_exporter": "python",
   "pygments_lexer": "ipython3",
   "version": "3.9.13"
  }
 },
 "nbformat": 4,
 "nbformat_minor": 5
}
