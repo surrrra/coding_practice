{
 "cells": [
  {
   "cell_type": "markdown",
   "id": "2607e1e8",
   "metadata": {},
   "source": [
    "네오와 프로도가 숫자놀이를 하고 있습니다. 네오가 프로도에게 숫자를 건넬 때 일부 자릿수를 영단어로 바꾼 카드를 건네주면 프로도는 원래 숫자를 찾는 게임입니다."
   ]
  },
  {
   "cell_type": "markdown",
   "id": "41f0911a",
   "metadata": {},
   "source": [
    "다음은 숫자의 일부 자릿수를 영단어로 바꾸는 예시입니다."
   ]
  },
  {
   "cell_type": "markdown",
   "id": "c874bec4",
   "metadata": {},
   "source": [
    "1478 → \"one4seveneight\"\n",
    "234567 → \"23four5six7\"\n",
    "10203 → \"1zerotwozero3\""
   ]
  },
  {
   "cell_type": "markdown",
   "id": "6f595407",
   "metadata": {},
   "source": [
    "이렇게 숫자의 일부 자릿수가 영단어로 바뀌어졌거나, 혹은 바뀌지 않고 그대로인 문자열 s가 매개변수로 주어집니다. s가 의미하는 원래 숫자를 return 하도록 solution 함수를 완성해주세요."
   ]
  },
  {
   "cell_type": "code",
   "execution_count": 1,
   "id": "5c242668",
   "metadata": {},
   "outputs": [
    {
     "name": "stdout",
     "output_type": "stream",
     "text": [
      "['one', 'two', 'three', 'four', 'five', 'six', 'seven', 'eight', 'nine', 'zero']\n",
      "8135068\n"
     ]
    }
   ],
   "source": [
    "my_dict={'one':'1', 'two':'2', 'three':'3', 'four':'4', 'five':'5', 'six':'6', 'seven':'7',\n",
    "            'eight':'8', 'nine':'9', 'zero':'0'}\n",
    "\n",
    "s='eight1threefive0six8'\n",
    "print(list(my_dict.keys()))\n",
    "\n",
    "\n",
    "\n",
    "for key in my_dict.keys():\n",
    "    #if key in s:\n",
    "    s=s.replace(key, my_dict[key])\n",
    "print(int(s))"
   ]
  },
  {
   "cell_type": "code",
   "execution_count": null,
   "id": "3488cacc",
   "metadata": {},
   "outputs": [],
   "source": []
  }
 ],
 "metadata": {
  "kernelspec": {
   "display_name": "Python 3 (ipykernel)",
   "language": "python",
   "name": "python3"
  },
  "language_info": {
   "codemirror_mode": {
    "name": "ipython",
    "version": 3
   },
   "file_extension": ".py",
   "mimetype": "text/x-python",
   "name": "python",
   "nbconvert_exporter": "python",
   "pygments_lexer": "ipython3",
   "version": "3.9.12"
  }
 },
 "nbformat": 4,
 "nbformat_minor": 5
}
