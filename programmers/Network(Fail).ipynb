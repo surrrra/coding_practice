{
 "cells": [
  {
   "cell_type": "markdown",
   "id": "227c353a",
   "metadata": {},
   "source": [
    "# 네트워크\n",
    "\n",
    "https://school.programmers.co.kr/learn/courses/30/lessons/43162"
   ]
  },
  {
   "cell_type": "code",
   "execution_count": 57,
   "id": "ae1b953c",
   "metadata": {},
   "outputs": [],
   "source": [
    "def solution(n, computers):\n",
    "    answer = [0 for _ in range(n)]\n",
    "    \n",
    "    for i in range(n):\n",
    "        for j in range(n):\n",
    "            if i!=j:\n",
    "                if computers[i][j]==1:\n",
    "                    answer[j]+=1\n",
    "\n",
    "    if answer.count(1)==0: \n",
    "        answer=answer.count(0)\n",
    "        return answer\n",
    "    else: \n",
    "        answer=1+answer.count(0)\n",
    "        return answer"
   ]
  },
  {
   "cell_type": "code",
   "execution_count": 58,
   "id": "863b097d",
   "metadata": {},
   "outputs": [],
   "source": [
    "#computers=[[1, 1, 0], [1, 1, 1], [0, 1, 1]]\n",
    "#computers=[[1, 1, 0], [1, 1, 0], [0, 0, 1]]\n",
    "#computers=[[1, 1, 0, 1], [1, 1, 0, 0], [0, 0, 1, 1], [1, 0, 1, 1]]\n",
    "#computers=[[1]]\n",
    "#computers=[[1, 1, 0], [1, 1, 0], [0, 0, 1]]# 2\n",
    "#computers=[[1, 1, 0], [1, 1, 1], [0, 1, 1]] # 1\n",
    "#computers=[[1, 0, 1], [0, 1, 0], [1, 0, 1]]  # 2\n",
    "#computers=[[1, 1, 0, 1], [1, 1, 0, 0], [0, 0, 1, 1], [1, 0, 1, 1]] # 1\n",
    "#computers=[[1, 0, 0, 0], [0, 1, 0, 0], [0, 0, 1, 0], [0, 0, 0, 1]] # 4\n",
    "#computers=[[1, 0, 0, 0, 0], [0, 1, 0, 0, 1], [0, 0, 1, 0, 1], [0, 0, 0, 1, 1], [1, 0, 0, 0, 1]]  # 1\n",
    "#computers=[[1, 1, 0, 1], [1, 1, 0, 0], [0, 0, 1, 1], [1, 0, 1, 1]]\n",
    "#computers=[[1, 0, 1, 1, 0, 0], [0, 1, 0, 0, 1, 1], [1, 0, 1, 1, 1, 1], [1, 0, 1, 1, 1, 1], [0, 1, 1, 1, 1, 1], [0, 1, 1, 1, 1, 1]]\n",
    "#computers= [[1, 0, 0], [0, 1, 0], [0, 0, 1]]\n",
    "#computers=[[1, 0, 0, 1], [0, 1, 1, 0], [0, 1, 1, 0], [1, 1, 0, 1]]\n",
    "computers=[[1, 1, 0, 0, 0, 0], [1, 1, 0, 0, 0, 0], [0, 0, 1, 1, 0, 0], [0, 0, 1, 1, 0, 0],\n",
    "          [0, 0, 0, 0, 1, 1], [0, 0, 0, 0, 1, 1]]\n",
    "\n",
    "n=len(computers)"
   ]
  },
  {
   "cell_type": "code",
   "execution_count": 59,
   "id": "bb329c30",
   "metadata": {},
   "outputs": [
    {
     "data": {
      "text/plain": [
       "1"
      ]
     },
     "execution_count": 59,
     "metadata": {},
     "output_type": "execute_result"
    }
   ],
   "source": [
    "solution(n, computers)"
   ]
  },
  {
   "cell_type": "markdown",
   "id": "e6a5b4b1",
   "metadata": {},
   "source": [
    "실패 이유 : A-B C-D E-F처럼 두 개씩 연결되어 있을 때, output이 3이 나와야 하는데 1이 나옴"
   ]
  }
 ],
 "metadata": {
  "kernelspec": {
   "display_name": "Python 3 (ipykernel)",
   "language": "python",
   "name": "python3"
  },
  "language_info": {
   "codemirror_mode": {
    "name": "ipython",
    "version": 3
   },
   "file_extension": ".py",
   "mimetype": "text/x-python",
   "name": "python",
   "nbconvert_exporter": "python",
   "pygments_lexer": "ipython3",
   "version": "3.9.13"
  }
 },
 "nbformat": 4,
 "nbformat_minor": 5
}
