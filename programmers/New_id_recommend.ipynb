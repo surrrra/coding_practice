{
 "cells": [
  {
   "cell_type": "markdown",
   "id": "d8c62a94",
   "metadata": {},
   "source": [
    "# 신규 아이디 추천"
   ]
  },
  {
   "cell_type": "markdown",
   "id": "698dd079",
   "metadata": {},
   "source": [
    "카카오에 입사한 신입 개발자 네오는 \"카카오계정개발팀\"에 배치되어, 카카오 서비스에 가입하는 유저들의 아이디를 생성하는 업무를 담당하게 되었습니다. \"네오\"에게 주어진 첫 업무는 새로 가입하는 유저들이 카카오 아이디 규칙에 맞지 않는 아이디를 입력했을 때, 입력된 아이디와 유사하면서 규칙에 맞는 아이디를 추천해주는 프로그램을 개발하는 것입니다.\n",
    "다음은 카카오 아이디의 규칙입니다.\n",
    "\n",
    "아이디의 길이는 3자 이상 15자 이하여야 합니다.\n",
    "아이디는 알파벳 소문자, 숫자, 빼기(-), 밑줄(_), 마침표(.) 문자만 사용할 수 있습니다.\n",
    "단, 마침표(.)는 처음과 끝에 사용할 수 없으며 또한 연속으로 사용할 수 없습니다."
   ]
  },
  {
   "cell_type": "markdown",
   "id": "ab37b834",
   "metadata": {},
   "source": [
    "1단계 new_id의 모든 대문자를 대응되는 소문자로 치환합니다.  \n",
    "2단계 new_id에서 알파벳 소문자, 숫자, 빼기(-), 밑줄(_), 마침표(.)를 제외한 모든 문자를 제거합니다.  \n",
    "3단계 new_id에서 마침표(.)가 2번 이상 연속된 부분을 하나의 마침표(.)로 치환합니다.  \n",
    "4단계 new_id에서 마침표(.)가 처음이나 끝에 위치한다면 제거합니다.  \n",
    "5단계 new_id가 빈 문자열이라면, new_id에 \"a\"를 대입합니다.  \n",
    "6단계 new_id의 길이가 16자 이상이면, new_id의 첫 15개의 문자를 제외한 나머지 문자들을 모두 제거합니다.  \n",
    "     만약 제거 후 마침표(.)가 new_id의 끝에 위치한다면 끝에 위치한 마침표(.) 문자를 제거합니다.  \n",
    "7단계 new_id의 길이가 2자 이하라면, new_id의 마지막 문자를 new_id의 길이가 3이 될 때까지 반복해서 끝에 붙입니다."
   ]
  },
  {
   "cell_type": "markdown",
   "id": "25f955ca",
   "metadata": {},
   "source": [
    "new_id는 길이 1 이상 1,000 이하인 문자열입니다.  \n",
    "new_id는 알파벳 대문자, 알파벳 소문자, 숫자, 특수문자로 구성되어 있습니다.  \n",
    "new_id에 나타날 수 있는 특수문자는 -_.~!@#$%^&*()=+[{]}:?,<>/ 로 한정됩니다."
   ]
  },
  {
   "cell_type": "markdown",
   "id": "2250fafe",
   "metadata": {},
   "source": [
    "https://school.programmers.co.kr/learn/courses/30/lessons/72410"
   ]
  },
  {
   "cell_type": "code",
   "execution_count": 7,
   "id": "13c8b78c",
   "metadata": {},
   "outputs": [
    {
     "name": "stdout",
     "output_type": "stream",
     "text": [
      "1단계 z-+.^.\n",
      "2단계 z-..\n",
      "3단계 z-.\n",
      "4단계 z-\n",
      "5단계 z-\n",
      "6단계 z-\n",
      "7단계 z--\n"
     ]
    },
    {
     "data": {
      "text/plain": [
       "'z--'"
      ]
     },
     "execution_count": 7,
     "metadata": {},
     "output_type": "execute_result"
    }
   ],
   "source": [
    "def solution(new_id):\n",
    "    id=''\n",
    "    \n",
    "    char=['~','!','@','#','$','%','^','&','*','(',')','=',\n",
    "     '+','[',']','{','}',':','?','<','>','/', ',']\n",
    "\n",
    "    # 1단계\n",
    "    new_id=new_id.lower()\n",
    "\n",
    "    # 2단계\n",
    "    for c in new_id:\n",
    "        if c not in char:\n",
    "            new_id=new_id.replace(c, '')\n",
    "\n",
    "    # 3단계\n",
    "    while '..' in new_id:\n",
    "        new_id=new_id.replace('..', '.')\n",
    "\n",
    "    # 4단계\n",
    "    new_id=new_id.strip('.')\n",
    "\n",
    "    # 5단계\n",
    "    if new_id=='':\n",
    "        new_id='a'\n",
    "\n",
    "    # 6단계\n",
    "    if len(new_id)>=16:\n",
    "        new_id=new_id[:15].strip('.')\n",
    "\n",
    "    # 7단계\n",
    "    if len(new_id)<=2:\n",
    "        while len(new_id)<3:\n",
    "            new_id+=new_id[-1]\n",
    " \n",
    "    return new_id\n",
    "\n",
    "solution('z-+.^.')"
   ]
  }
 ],
 "metadata": {
  "kernelspec": {
   "display_name": "Python 3 (ipykernel)",
   "language": "python",
   "name": "python3"
  },
  "language_info": {
   "codemirror_mode": {
    "name": "ipython",
    "version": 3
   },
   "file_extension": ".py",
   "mimetype": "text/x-python",
   "name": "python",
   "nbconvert_exporter": "python",
   "pygments_lexer": "ipython3",
   "version": "3.9.12"
  }
 },
 "nbformat": 4,
 "nbformat_minor": 5
}
