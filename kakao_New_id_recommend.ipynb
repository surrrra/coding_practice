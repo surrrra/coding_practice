{
 "cells": [
  {
   "cell_type": "code",
   "execution_count": 7,
   "id": "13c8b78c",
   "metadata": {},
   "outputs": [
    {
     "name": "stdout",
     "output_type": "stream",
     "text": [
      "1단계 z-+.^.\n",
      "2단계 z-..\n",
      "3단계 z-.\n",
      "4단계 z-\n",
      "5단계 z-\n",
      "6단계 z-\n",
      "7단계 z--\n"
     ]
    },
    {
     "data": {
      "text/plain": [
       "'z--'"
      ]
     },
     "execution_count": 7,
     "metadata": {},
     "output_type": "execute_result"
    }
   ],
   "source": [
    "def solution(new_id):\n",
    "    id=''\n",
    "    \n",
    "    char=['~','!','@','#','$','%','^','&','*','(',')','=',\n",
    "     '+','[',']','{','}',':','?','<','>','/', ',']\n",
    "\n",
    "    # 1단계\n",
    "    new_id=new_id.lower()\n",
    "\n",
    "    # 2단계\n",
    "    for c in new_id:\n",
    "        if c not in char:\n",
    "            new_id=new_id.replace(c, '')\n",
    "\n",
    "    # 3단계\n",
    "    while '..' in new_id:\n",
    "        new_id=new_id.replace('..', '.')\n",
    "\n",
    "    # 4단계\n",
    "    new_id=new_id.strip('.')\n",
    "\n",
    "    # 5단계\n",
    "    if new_id=='':\n",
    "        new_id='a'\n",
    "\n",
    "    # 6단계\n",
    "    if len(new_id)>=16:\n",
    "        new_id=new_id[:15].strip('.')\n",
    "\n",
    "    # 7단계\n",
    "    if len(new_id)<=2:\n",
    "        while len(new_id)<3:\n",
    "            new_id+=new_id[-1]\n",
    " \n",
    "    return new_id\n",
    "\n",
    "solution('z-+.^.')"
   ]
  }
 ],
 "metadata": {
  "kernelspec": {
   "display_name": "Python 3 (ipykernel)",
   "language": "python",
   "name": "python3"
  },
  "language_info": {
   "codemirror_mode": {
    "name": "ipython",
    "version": 3
   },
   "file_extension": ".py",
   "mimetype": "text/x-python",
   "name": "python",
   "nbconvert_exporter": "python",
   "pygments_lexer": "ipython3",
   "version": "3.9.12"
  }
 },
 "nbformat": 4,
 "nbformat_minor": 5
}
