{
 "cells": [
  {
   "cell_type": "markdown",
   "id": "3b3c7d6d",
   "metadata": {},
   "source": [
    "#  크레인 인형뽑기 게임"
   ]
  },
  {
   "cell_type": "markdown",
   "id": "208fc101",
   "metadata": {},
   "source": [
    "https://school.programmers.co.kr/learn/courses/30/lessons/64061"
   ]
  },
  {
   "cell_type": "code",
   "execution_count": 26,
   "id": "2b4acfc0",
   "metadata": {},
   "outputs": [
    {
     "data": {
      "text/plain": [
       "4"
      ]
     },
     "execution_count": 26,
     "metadata": {},
     "output_type": "execute_result"
    }
   ],
   "source": [
    "board=[[0,0,0,0,0],[0,0,1,0,3],[0,2,5,0,1],[4,2,4,4,2],[3,5,1,3,1]]\n",
    "moves=[1,5,3,5,1,2,1,4]\n",
    "\n",
    "def solution(board, moves):\n",
    "    answer = 0\n",
    "    basket=[]\n",
    "   \n",
    "\n",
    "    for m in moves:\n",
    "        for i in range(len(board)):\n",
    "            if board[i][m-1]!=0:\n",
    "                basket.append(board[i][m-1])\n",
    "                board[i][m-1]=0\n",
    "                if len(basket)>=2:\n",
    "                    if basket[-1]==basket[-2]:\n",
    "                        basket.remove(basket[-1])\n",
    "                        basket.remove(basket[-1])\n",
    "                        answer+=1\n",
    "                break\n",
    "\n",
    "    \n",
    "    return answer*2\n",
    "\n",
    "solution(board, moves)"
   ]
  }
 ],
 "metadata": {
  "kernelspec": {
   "display_name": "Python 3 (ipykernel)",
   "language": "python",
   "name": "python3"
  },
  "language_info": {
   "codemirror_mode": {
    "name": "ipython",
    "version": 3
   },
   "file_extension": ".py",
   "mimetype": "text/x-python",
   "name": "python",
   "nbconvert_exporter": "python",
   "pygments_lexer": "ipython3",
   "version": "3.9.12"
  }
 },
 "nbformat": 4,
 "nbformat_minor": 5
}
