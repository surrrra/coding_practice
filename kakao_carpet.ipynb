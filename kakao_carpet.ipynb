{
 "cells": [
  {
   "cell_type": "code",
   "execution_count": 73,
   "id": "cb968ddb",
   "metadata": {},
   "outputs": [
    {
     "name": "stdout",
     "output_type": "stream",
     "text": [
      "[1, 2, 3, 4, 6, 8, 12, 16, 24, 48]\n",
      "i: 0\n",
      "factor[i] : 1\n",
      "factor[-1*(i+1)] : 48\n",
      "\n",
      "True!\n",
      "1 48\n",
      "\n",
      "i: 1\n",
      "factor[i] : 2\n",
      "factor[-1*(i+1)] : 24\n",
      "\n",
      "True!\n",
      "2 24\n",
      "\n",
      "i: 2\n",
      "factor[i] : 3\n",
      "factor[-1*(i+1)] : 16\n",
      "\n",
      "True!\n",
      "3 16\n",
      "\n",
      "i: 3\n",
      "factor[i] : 4\n",
      "factor[-1*(i+1)] : 12\n",
      "\n",
      "True!\n",
      "4 12\n",
      "\n",
      "i: 4\n",
      "factor[i] : 6\n",
      "factor[-1*(i+1)] : 8\n",
      "\n",
      "True!\n",
      "6 8\n",
      "\n"
     ]
    }
   ],
   "source": [
    "brown=24\n",
    "yellow=24\n",
    "factor=[]\n",
    "\n",
    "color=brown+yellow\n",
    "\n",
    "for i in range(1, color+1):\n",
    "    if color%i==0:\n",
    "        factor.append(i)\n",
    "        \n",
    "print(factor)\n",
    "        \n",
    "        \n",
    "for i in range(len(factor)//2):\n",
    "    print('i:', i)\n",
    "    print('factor[i] :', factor[i])\n",
    "    print('factor[-1*(i+1)] :',factor[-1*(i+1)])\n",
    "    print()\n",
    "    if factor[i]*factor[-1*(i+1)]-yellow==brown:\n",
    "        print('True!')\n",
    "        print(factor[i],factor[-1*(i+1)])\n",
    "        print()"
   ]
  },
  {
   "cell_type": "code",
   "execution_count": 17,
   "id": "3f51f1ed",
   "metadata": {},
   "outputs": [
    {
     "name": "stdout",
     "output_type": "stream",
     "text": [
      "3 16\n",
      "4 12\n",
      "6 8\n"
     ]
    }
   ],
   "source": [
    "print(factor[0], factor[-1])\n",
    "print(factor[1], factor[-2])\n",
    "print(factor[2], factor[-3])"
   ]
  },
  {
   "cell_type": "code",
   "execution_count": 19,
   "id": "46a96f3b",
   "metadata": {},
   "outputs": [
    {
     "name": "stdout",
     "output_type": "stream",
     "text": [
      "i: 0\n",
      "True!\n",
      "3 16\n",
      "i: 1\n",
      "True!\n",
      "3 16\n",
      "i: 2\n",
      "True!\n",
      "3 16\n"
     ]
    }
   ],
   "source": [
    "for i in range(len(factor)//2):\n",
    "    print('i:', i)\n",
    "    if factor[i]*factor[-1*(i+1)]-yellow==brown:\n",
    "        print('True!')\n",
    "        print(factor[0],factor[-1])"
   ]
  },
  {
   "cell_type": "code",
   "execution_count": 64,
   "id": "73ae96e3",
   "metadata": {},
   "outputs": [
    {
     "name": "stdout",
     "output_type": "stream",
     "text": [
      "yellow_factor [1, 5]\n",
      "들어왔나?\n",
      "1 5\n",
      "3 7\n",
      "\n",
      "이거다\n",
      "1 5\n",
      "\n",
      "[7, 3]\n"
     ]
    }
   ],
   "source": [
    "import numpy as np\n",
    "brown=16\n",
    "yellow=5\n",
    "yellow_factor=[]\n",
    "result=[]\n",
    "\n",
    "for i in range(1, yellow+1):\n",
    "    if yellow%i==0:\n",
    "        yellow_factor.append(i)\n",
    "        \n",
    "print('yellow_factor', yellow_factor)\n",
    "\n",
    "\n",
    "if len(yellow_factor)==1:\n",
    "    num=int(np.sqrt(brown+yellow))\n",
    "    result.append(num)\n",
    "    result.append(num)\n",
    "    \n",
    "\n",
    "elif len(yellow_factor)%2!=0:\n",
    "    for i in range(1, len(yellow_factor)-1):\n",
    "        print(yellow_factor[i], yellow_factor[-1*(i+1)])\n",
    "        result.append(yellow_factor[i]*2)\n",
    "        result.append(yellow_factor[i]*2)\n",
    "    \n",
    "else:\n",
    "    for i in range(len(yellow_factor)//2):\n",
    "        print('들어왔나?')\n",
    "        print(yellow_factor[i], yellow_factor[-1*(i+1)])\n",
    "        print(yellow_factor[i]+2, yellow_factor[-1*(i+1)]+2)\n",
    "        print()\n",
    "\n",
    "        if (yellow_factor[i]+2) * (yellow_factor[-1*(i+1)]+2)-yellow==brown:\n",
    "            print('이거다')\n",
    "            print(yellow_factor[i], yellow_factor[-1*(i+1)])\n",
    "            print()\n",
    "            result.append(yellow_factor[-1*(i+1)]+2)\n",
    "            result.append(yellow_factor[i]+2)\n",
    "\n",
    "        \n",
    "print(result)"
   ]
  },
  {
   "cell_type": "code",
   "execution_count": 59,
   "id": "997a95ff",
   "metadata": {},
   "outputs": [
    {
     "name": "stdout",
     "output_type": "stream",
     "text": [
      "1\n"
     ]
    }
   ],
   "source": [
    "a=[1, 5]\n",
    "\n",
    "print(len(a)//2)"
   ]
  },
  {
   "cell_type": "code",
   "execution_count": 65,
   "id": "50804b4b",
   "metadata": {},
   "outputs": [
    {
     "data": {
      "text/plain": [
       "12"
      ]
     },
     "execution_count": 65,
     "metadata": {},
     "output_type": "execute_result"
    }
   ],
   "source": [
    "brown=10\n",
    "yellow=2\n",
    "\n",
    "brown+yellow"
   ]
  },
  {
   "cell_type": "code",
   "execution_count": null,
   "id": "67cc5901",
   "metadata": {},
   "outputs": [],
   "source": []
  }
 ],
 "metadata": {
  "kernelspec": {
   "display_name": "Python 3 (ipykernel)",
   "language": "python",
   "name": "python3"
  },
  "language_info": {
   "codemirror_mode": {
    "name": "ipython",
    "version": 3
   },
   "file_extension": ".py",
   "mimetype": "text/x-python",
   "name": "python",
   "nbconvert_exporter": "python",
   "pygments_lexer": "ipython3",
   "version": "3.9.12"
  }
 },
 "nbformat": 4,
 "nbformat_minor": 5
}
